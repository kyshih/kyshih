{
  "cells": [
    {
      "cell_type": "markdown",
      "metadata": {
        "id": "view-in-github",
        "colab_type": "text"
      },
      "source": [
        "<a href=\"https://colab.research.google.com/github/kyshih/kyshih/blob/main/Lecture_2.ipynb\" target=\"_parent\"><img src=\"https://colab.research.google.com/assets/colab-badge.svg\" alt=\"Open In Colab\"/></a>"
      ]
    },
    {
      "cell_type": "markdown",
      "metadata": {
        "id": "IognGnwLoIzD"
      },
      "source": [
        "# CME 193 - Lecture 2\n",
        "Announcement: 10/12 In-person office hour is cancalled and I will host an extra-hour zoom OH from 6pm-8pm Today.  \n",
        "\n",
        "This class we will cover\n",
        "1. Basics of creating classes and objects\n",
        "2. Basics of NumPy"
      ]
    },
    {
      "cell_type": "markdown",
      "source": [
        "# Classes\n",
        "\n",
        "Classes let you abstract away details while programming."
      ],
      "metadata": {
        "id": "KQrw73r58qer"
      }
    },
    {
      "cell_type": "code",
      "source": [
        "2 + 3"
      ],
      "metadata": {
        "id": "l88N7AeNiiQS"
      },
      "execution_count": null,
      "outputs": []
    },
    {
      "cell_type": "code",
      "source": [
        "\"2\" + \"3\""
      ],
      "metadata": {
        "id": "Sd7_6EcIijsO"
      },
      "execution_count": null,
      "outputs": []
    },
    {
      "cell_type": "code",
      "source": [
        "[1] + [2, 3] # a.extend(b)"
      ],
      "metadata": {
        "id": "aJcUIsF_ijv8"
      },
      "execution_count": null,
      "outputs": []
    },
    {
      "cell_type": "code",
      "source": [
        "#instance.method(args) = class.method(instance,args)"
      ],
      "metadata": {
        "id": "mguAI_KAGvJg"
      },
      "execution_count": null,
      "outputs": []
    },
    {
      "cell_type": "code",
      "source": [
        "x = []\n",
        "x.append(2)# = class.method(instance,args)\n",
        "x"
      ],
      "metadata": {
        "id": "QWGcKqmzH5WA"
      },
      "execution_count": null,
      "outputs": []
    },
    {
      "cell_type": "code",
      "source": [
        "#class.method(instance,args)\n",
        "x = []\n",
        "list.append(x,2) \n",
        "\n",
        "'''\n",
        "class list:\n",
        "  def __init___(self, args):...\n",
        "\n",
        "  def append(self, args):...\n",
        "'''\n",
        "x"
      ],
      "metadata": {
        "id": "Yj_fRPzkIDII"
      },
      "execution_count": null,
      "outputs": []
    },
    {
      "cell_type": "code",
      "source": [
        "class Animal:\n",
        "    # constructor __init__\n",
        "    def __init__(self, sound):\n",
        "        self.sound = sound\n",
        "    # method\n",
        "    def make_sound(self):\n",
        "        print(f\"Make a sound {self.sound}\")"
      ],
      "metadata": {
        "id": "YEirnTEv8p8o"
      },
      "execution_count": null,
      "outputs": []
    },
    {
      "cell_type": "markdown",
      "source": [],
      "metadata": {
        "id": "jLLd7uuFS0FA"
      }
    },
    {
      "cell_type": "code",
      "source": [
        "cat = Animal('Meow')\n",
        "dog = Animal('Bark')"
      ],
      "metadata": {
        "id": "Tn2belEg8tOB"
      },
      "execution_count": null,
      "outputs": []
    },
    {
      "cell_type": "code",
      "source": [
        "type(cat), type(dog)"
      ],
      "metadata": {
        "id": "0Gh8lCf-8Ok6"
      },
      "execution_count": null,
      "outputs": []
    },
    {
      "cell_type": "code",
      "source": [
        "cat.make_sound()\n",
        "dog.make_sound()\n",
        "# Animal.make_sound(cat)"
      ],
      "metadata": {
        "id": "iup5zP6I7gEn"
      },
      "execution_count": null,
      "outputs": []
    },
    {
      "cell_type": "markdown",
      "source": [
        "Python use `self` parameter to refer to instance attributes and methods of the class\n",
        "- If an instance called its class method, the method will treat the first arguments as the reference to the instance\n",
        "  - `instance.method(args) = class.method(instance,args)`\n",
        "- `self` refers to the instance of the class (python norm)\n",
        "\n"
      ],
      "metadata": {
        "id": "oPv56CsoOkc7"
      }
    },
    {
      "cell_type": "code",
      "source": [
        "x = []\n",
        "print(type(x))\n",
        "x.append(1) #something like: \n",
        "x"
      ],
      "metadata": {
        "id": "Jj8b3cp5OiN0"
      },
      "execution_count": null,
      "outputs": []
    },
    {
      "cell_type": "code",
      "source": [
        "x = []\n",
        "list.append(x, 1) \n",
        "\n",
        "'''\n",
        "class list:\n",
        "  def __init__(self):\n",
        "      ...\n",
        "\n",
        "  def append(self, args):\n",
        "'''\n",
        "x\n",
        "\n",
        "# self argument equals to x\n",
        "# self is the thing goes to the front of arguments\n",
        "# can be replaced with anything, but it’s like a explicit rule in python"
      ],
      "metadata": {
        "id": "GYQmT7CZO9-P"
      },
      "execution_count": null,
      "outputs": []
    },
    {
      "cell_type": "markdown",
      "metadata": {
        "id": "wkHZ1UkCoIzF"
      },
      "source": [
        "## Bank Account example to illustrate Classes and Objects"
      ]
    },
    {
      "cell_type": "code",
      "execution_count": null,
      "metadata": {
        "id": "mGm58HkzoIzF"
      },
      "outputs": [],
      "source": [
        "debits = []\n",
        "credits = []"
      ]
    },
    {
      "cell_type": "code",
      "execution_count": null,
      "metadata": {
        "id": "mLokThuwoIzG"
      },
      "outputs": [],
      "source": [
        "def add_to_debits(value):\n",
        "    global debits\n",
        "    #global here lets python know that we want our function to change a variable not explicitly given as an argument\n",
        "    #if we only want to read a variable, the 'global' keyword is not needed.\n",
        "    debits.append(value)"
      ]
    },
    {
      "cell_type": "code",
      "execution_count": null,
      "metadata": {
        "id": "PUGdA_ZcoIzH"
      },
      "outputs": [],
      "source": [
        "def add_to_credits(value):\n",
        "    global credits\n",
        "    credits.append(value)"
      ]
    },
    {
      "cell_type": "code",
      "execution_count": null,
      "metadata": {
        "id": "SOADIckuoIzH"
      },
      "outputs": [],
      "source": [
        "add_to_credits(1000)\n",
        "add_to_debits(10)\n",
        "add_to_debits(15)\n",
        "add_to_debits(100)"
      ]
    },
    {
      "cell_type": "code",
      "execution_count": null,
      "metadata": {
        "id": "U8l2jl08oIzI"
      },
      "outputs": [],
      "source": [
        " debits"
      ]
    },
    {
      "cell_type": "code",
      "source": [
        "credits"
      ],
      "metadata": {
        "id": "Kd1b6ZmjjqbV"
      },
      "execution_count": null,
      "outputs": []
    },
    {
      "cell_type": "code",
      "source": [],
      "metadata": {
        "id": "VloISzt7T09g"
      },
      "execution_count": null,
      "outputs": []
    },
    {
      "cell_type": "code",
      "execution_count": null,
      "metadata": {
        "id": "WdIjfXGmoIzI"
      },
      "outputs": [],
      "source": [
        "def total_value():\n",
        "    global debits\n",
        "    global credits\n",
        "    total =0 \n",
        "    for val in debits:\n",
        "        total-=val\n",
        "    for val in credits:\n",
        "        total+=val\n",
        "    return total"
      ]
    },
    {
      "cell_type": "code",
      "execution_count": null,
      "metadata": {
        "id": "TvW4M43-oIzJ"
      },
      "outputs": [],
      "source": [
        "total_value()"
      ]
    },
    {
      "cell_type": "markdown",
      "metadata": {
        "id": "w05Fj6sQoIzK"
      },
      "source": [
        "## Lets use Classes and Objects"
      ]
    },
    {
      "cell_type": "markdown",
      "source": [
        "#### 1. Initialize a class"
      ],
      "metadata": {
        "id": "ZUoG0mtFQhCG"
      }
    },
    {
      "cell_type": "code",
      "execution_count": null,
      "metadata": {
        "id": "eGKMfcZboIzK"
      },
      "outputs": [],
      "source": [
        "class Account:\n",
        "    def __init__(self):\n",
        "      self.debits = []\n",
        "      self.credits = []"
      ]
    },
    {
      "cell_type": "code",
      "source": [
        "a1 = Account()\n",
        "print(a1)\n",
        "print(a1.debits)"
      ],
      "metadata": {
        "id": "N7tLXVncPJUR"
      },
      "execution_count": null,
      "outputs": []
    },
    {
      "cell_type": "code",
      "source": [
        "a2 = Account()\n",
        "print(a2)\n",
        "print(a2.debits)"
      ],
      "metadata": {
        "id": "3BwFg-mWPJXI"
      },
      "execution_count": null,
      "outputs": []
    },
    {
      "cell_type": "markdown",
      "source": [
        "#### 2. Add methods"
      ],
      "metadata": {
        "id": "hsPlAOT3QkKB"
      }
    },
    {
      "cell_type": "code",
      "source": [
        "class Account:\n",
        "    def __init__(self):\n",
        "      self.debits = []\n",
        "      self.credits = []\n",
        "\n",
        "    def add_to_credits(self, value):\n",
        "      self.credits.append(value)\n",
        "\n",
        "    def add_to_debits(self, value):\n",
        "      self.debits.append(value)\n",
        "\n",
        "    def total_value(self):\n",
        "      total = 0\n",
        "      total -= sum(self.debits)\n",
        "      total += sum(self.credits)\n",
        "      return total"
      ],
      "metadata": {
        "id": "kV1YdzqhQfQG"
      },
      "execution_count": null,
      "outputs": []
    },
    {
      "cell_type": "code",
      "source": [
        "a1 = Account()\n",
        "a2 = Account()\n",
        "\n",
        "print(f\"a1.credits:{a1.credits}\")\n",
        "print(f\"a2.credits:{a2.credits}\\n\")\n",
        "\n",
        "a1.add_to_credits(10)\n",
        "\n",
        "print(f\"a1.credits:{a1.credits}\")\n",
        "print(f\"a2.credits:{a2.credits}\")"
      ],
      "metadata": {
        "id": "d4gyI46xQm4K"
      },
      "execution_count": null,
      "outputs": []
    },
    {
      "cell_type": "code",
      "source": [
        "a1.add_to_debits(40)\n",
        "print(a1.debits)\n",
        "\n",
        "a2.add_to_debits(10)\n",
        "print(a2.debits)"
      ],
      "metadata": {
        "id": "MIGN-S9iTTd9"
      },
      "execution_count": null,
      "outputs": []
    },
    {
      "cell_type": "code",
      "source": [
        "print(f\"a1 total value:{a1.total_value()}\")\n",
        "print(f\"a1 total value:{a2.total_value()}\")"
      ],
      "metadata": {
        "id": "myYKuSdOTK-l"
      },
      "execution_count": null,
      "outputs": []
    },
    {
      "cell_type": "markdown",
      "metadata": {
        "id": "kGxbNjgroIzK"
      },
      "source": [
        "## Exercise 1 (Post Lecture)\n",
        "\n",
        "### Add more functionality to the account class\n",
        "\n",
        "1. Add a check before debits to ensure funds are available\n",
        "\n",
        "2. Add a `transfer` function to your account class, which transfers money form one account to another.It should add to the debits of one account and to the credits of the other."
      ]
    },
    {
      "cell_type": "code",
      "execution_count": null,
      "metadata": {
        "id": "kkZXLMwtoIzL"
      },
      "outputs": [],
      "source": [
        "# # Solution:\n",
        "# accounts = []\n",
        "# class Account:\n",
        "#     def __init__(s):\n",
        "#         global accounts\n",
        "#         s.debits = []\n",
        "#         s.credits = []\n",
        "#         accounts += [s]\n",
        "        \n",
        "#     def add_to_debits(self,value):\n",
        "#         self.debits += [value]\n",
        "\n",
        "#     def add_to_credits(self,value):\n",
        "#         if value < self.total_value():\n",
        "#           self.credits += [value]\n",
        "#           return True\n",
        "#         else:\n",
        "#           print(\"Insufficient funds\")\n",
        "#           return False\n",
        "\n",
        "#     def total_value(self):\n",
        "#         total =0 \n",
        "#         for val in self.debits:\n",
        "#             total+=val\n",
        "#         for val in self.credits:\n",
        "#             total-=val\n",
        "#         return total\n",
        "\n",
        "#     def transfer(self, other, value): #other is another instance of Account object\n",
        "#       if value > 0:\n",
        "#         if self.add_to_credits(value):\n",
        "#           other.add_to_debits(value)"
      ]
    },
    {
      "cell_type": "markdown",
      "metadata": {
        "id": "5GJRzKoccbII"
      },
      "source": [
        "## Example: Rational Numbers\n",
        "\n",
        "Here we'l make a class that holds rational numbers (fractions).  That is, numbers of the form\n",
        "$$r = \\frac{p}{q}$$\n",
        "where $p$ and $q$ are integers"
      ]
    },
    {
      "cell_type": "code",
      "execution_count": null,
      "metadata": {
        "id": "KigjlUBlcbII"
      },
      "outputs": [],
      "source": [
        "import math\n",
        "class Rational:\n",
        "    def __init__(self, p, q=1):\n",
        "    \n",
        "        if q == 0:\n",
        "            raise ValueError('Denominator must not be zero')\n",
        "        if not isinstance(p, int):\n",
        "            raise ValueError('Numerator must be an integer')\n",
        "        if not isinstance(q, int):\n",
        "            raise ValueError('Denominator must be an integer')\n",
        "        \n",
        "        g = math.gcd(p, q)\n",
        "        \n",
        "        self.p = p // g # integer division\n",
        "        self.q = q // g\n",
        "  \n",
        "    \n",
        "    # method to convert rational to string for printing\n",
        "    def __str__(self):\n",
        "        return f'{self.p}/{self.q} I am a rational number'\n",
        "    \n",
        "    def __repr__(self): #printable representation of the list\n",
        "        return f'Rational({self.p}, {self.q})'\n",
        "\n",
        "    # method to convert rational to float\n",
        "    def __float__(self):\n",
        "        return self.p / self.q\n"
      ]
    },
    {
      "cell_type": "code",
      "execution_count": null,
      "metadata": {
        "id": "YQNT2Y_KcbII"
      },
      "outputs": [],
      "source": [
        "a = Rational(6, 4)\n",
        "b = Rational(3, 2)\n",
        "\n",
        "print(type(a))\n",
        "print(f\"a = {a}\")\n",
        "print(f\"b = {b}\")\n",
        "print([a,b])\n",
        "print(f\"float(a) = {float(a)}\")"
      ]
    },
    {
      "cell_type": "code",
      "execution_count": null,
      "metadata": {
        "id": "yfy9LgkBcbII"
      },
      "outputs": [],
      "source": [
        "a + b\n",
        "\n",
        "# We need Magic Method!! "
      ]
    },
    {
      "cell_type": "markdown",
      "metadata": {
        "id": "Ki9aBE1mcbIJ"
      },
      "source": [
        "You can do cool things like overload math operators.  This lets you write code that looks like you would write math.  Recall\n",
        "\n",
        "$$ \\frac{p_1}{q_1} + \\frac{p_2}{q_2} = \\frac{p_1 q_2 + p_2 q_1}{q_1 q_2}$$\n",
        "\n",
        "We'll see this next time!"
      ]
    },
    {
      "cell_type": "markdown",
      "source": [
        "## Plus Operation: `__add__`\n"
      ],
      "metadata": {
        "id": "dk7TisoTaokx"
      }
    },
    {
      "cell_type": "code",
      "source": [
        "# For example:\n",
        "a = [1,2]\n",
        "b = [3,4]\n",
        "a + b # equivalent a.extend(b)\n",
        "# list.__add__(a,b)"
      ],
      "metadata": {
        "id": "pHtrEr562y2y"
      },
      "execution_count": null,
      "outputs": []
    },
    {
      "cell_type": "markdown",
      "source": [],
      "metadata": {
        "id": "HOEouYE3Gqbd"
      }
    },
    {
      "cell_type": "code",
      "source": [
        "a = 2\n",
        "b = 3\n",
        "\n",
        "\n",
        "# a + b #equivalent to \n",
        "(a).__add__(b)"
      ],
      "metadata": {
        "id": "IhP4zvd5aso7"
      },
      "execution_count": null,
      "outputs": []
    },
    {
      "cell_type": "code",
      "source": [],
      "metadata": {
        "id": "OQ5Kex6AS7oG"
      },
      "execution_count": null,
      "outputs": []
    },
    {
      "cell_type": "markdown",
      "metadata": {
        "id": "mtrDP4pSoIzL"
      },
      "source": [
        "## Example: Rational Numbers\n",
        "\n",
        "Let's continue with our example of rational numbers (fractions), that is, numbers of the form\n",
        "$$r = \\frac{p}{q}$$\n",
        "where $p$ and $q$ are integers. Let's make it support addition using the formula:\n",
        "$$ \\frac{p_1}{q_1} + \\frac{p_2}{q_2} = \\frac{p_1 q_2 + p_2 q_1}{q_1 q_2}$$"
      ]
    },
    {
      "cell_type": "code",
      "execution_count": null,
      "metadata": {
        "id": "ChVijOL6oIzM"
      },
      "outputs": [],
      "source": [
        "import math\n",
        "\n",
        "class Rational:\n",
        "    def __init__(self, p, q=1):\n",
        "    \n",
        "        if q == 0:\n",
        "            raise ValueError('Denominator must not be zero')\n",
        "        if not isinstance(p, int):\n",
        "            raise TypeError('Numerator must be an integer')\n",
        "        if not isinstance(q, int):\n",
        "            raise TypeError('Denominator must be an integer')\n",
        "        \n",
        "        g = math.gcd(p, q)\n",
        "        \n",
        "        self.p = p // g\n",
        "        self.q = q // g\n",
        "    \n",
        "    # method to convert rational to float\n",
        "    def __float__(self):\n",
        "        return float(self.p) / float(self.q)    \n",
        "    \n",
        "    # method to convert rational to string for printing\n",
        "    def __str__(self):\n",
        "        return '%d / %d' % (self.p, self.q)\n",
        "    \n",
        "    # method to add two rationals - interprets self + other\n",
        "    def __add__(self, other):\n",
        "        #Return whether an object is an instance of a class or of a subclass thereof.\n",
        "        if isinstance(other, Rational): \n",
        "            return Rational(self.p * other.q + other.p * self.q, self.q * other.q)\n",
        "        # -- if it's an integer...\n",
        "        elif isinstance(other, int):\n",
        "            return Rational(self.p + other * self.q, self.q)\n",
        "        # -- otherwise, we assume it will be a float\n",
        "        return float(self) + float(other)\n",
        "    \n",
        "    def __radd__(self, other): # interprets other + self\n",
        "       return self + other # addition commutes!\n",
        "    "
      ]
    },
    {
      "cell_type": "code",
      "execution_count": null,
      "metadata": {
        "id": "rhwv3QLgoIzN"
      },
      "outputs": [],
      "source": [
        "r1 = Rational(3,4)\n",
        "print(r1)\n",
        "r2 = Rational(5,2)\n",
        "print(r2)"
      ]
    },
    {
      "cell_type": "code",
      "execution_count": null,
      "metadata": {
        "id": "fh0gwssaoIzN"
      },
      "outputs": [],
      "source": [
        "print( r1 + r2 )\n",
        "print( float( r1 + r2 ))"
      ]
    },
    {
      "cell_type": "code",
      "execution_count": null,
      "metadata": {
        "id": "5ap2xE5BoIzO"
      },
      "outputs": [],
      "source": [
        "#left add\n",
        "print( r1 + 3 )"
      ]
    },
    {
      "cell_type": "code",
      "execution_count": null,
      "metadata": {
        "id": "NKMXF4p5oIzO"
      },
      "outputs": [],
      "source": [
        "#right add\n",
        "print( 3 + r1 )\n",
        "\n",
        "# (3).__add__(r) if failed\n",
        "# r1.__radd__(3)"
      ]
    },
    {
      "cell_type": "markdown",
      "metadata": {
        "id": "433NNh_loIzO"
      },
      "source": [
        "# Exercise 2 (Post-Lecture)\n",
        "More about magic method: Magic Method : https://python-course.eu/oop/magic-methods.php\n",
        "### Add more operations to `Rational`\n",
        "You can read about the available operations that you can overload [here](https://docs.python.org/3.7/reference/datamodel.html#emulating-numeric-types)\n",
        "\n",
        "Add the following operations to the `Rational` class:\n",
        "* `*` - use `__mul__`\n",
        "* `/` - use `__truediv__`\n",
        "* `-` - use `__sub__`\n",
        "\n",
        "You only need to define these operations between two `Rational` types - use an `if isinstance(other, Rational):` block.\n",
        "\n",
        "Make a few examples to convince yourself that this works.\n",
        "\n"
      ]
    },
    {
      "cell_type": "code",
      "source": [],
      "metadata": {
        "id": "TCieqKbl-QZ-"
      },
      "execution_count": null,
      "outputs": []
    },
    {
      "cell_type": "code",
      "execution_count": null,
      "metadata": {
        "id": "xvvBQoL6oIzP"
      },
      "outputs": [],
      "source": [
        "# Solution\n",
        "class Rational:\n",
        "    def __init__(self, p, q=1):\n",
        "    \n",
        "        if q == 0:\n",
        "            raise ValueError('Denominator must not be zero')\n",
        "        if not isinstance(p, int):\n",
        "            raise TypeError('Numerator must be an integer')\n",
        "        if not isinstance(q, int):\n",
        "            raise TypeError('Denominator must be an integer')\n",
        "        \n",
        "        g = math.gcd(p, q)\n",
        "        \n",
        "        self.p = p // g\n",
        "        self.q = q // g\n",
        "    \n",
        "    # method to convert rational to float\n",
        "    def __float__(self):\n",
        "        return float(self.p) / float(self.q)    \n",
        "    \n",
        "    # method to convert rational to string for printing\n",
        "    def __str__(self):\n",
        "        return '%d / %d' % (self.p, self.q)\n",
        "    \n",
        "    # method to add two rationals - interprets self + other\n",
        "    def __add__(self, other):\n",
        "        if isinstance(other, Rational):\n",
        "            return Rational(self.p * other.q + other.p * self.q, self.q * other.q)\n",
        "        # -- if it's an integer...\n",
        "        elif isinstance(other, int):\n",
        "            return Rational(self.p + other * self.q, self.q)\n",
        "        # -- otherwise, we assume it will be a float\n",
        "        return float(self) + float(other)\n",
        "    \n",
        "    def __radd__(self, other): # interprets other + self\n",
        "        return self + other # addition commutes!\n",
        "    \n",
        "    # subtraction\n",
        "    def __sub__(self, other):\n",
        "        if isinstance(other, Rational):\n",
        "            return self + Rational(-other.p,other.q)\n",
        "        elif isinstance(other, int):\n",
        "            return self + (-other)\n",
        "    \n",
        "    # multiplication\n",
        "    def __mul__(self, other):\n",
        "        if isinstance(other, Rational):\n",
        "            return Rational(self.p*other.p,self.q*other.q)\n",
        "        elif isinstance(other, int):\n",
        "            return Rational(self.p*other,self.q)\n",
        "        \n",
        "    # division\n",
        "    def __truediv__(self, other):\n",
        "        if isinstance(other, Rational):\n",
        "            return Rational(self.p*other.q,self.q*other.p)\n",
        "        elif isinstance(other, int):\n",
        "            return Rational(self.p,self.q*other)\n",
        "        \n",
        "    def __repr__(self):\n",
        "        return self.__str__()\n",
        "    \n",
        "    def __rmul__(self, other):\n",
        "        return self*other;\n",
        "    "
      ]
    },
    {
      "cell_type": "code",
      "execution_count": null,
      "metadata": {
        "id": "y3UfuhuKoIzP"
      },
      "outputs": [],
      "source": [
        "# Write some examples to test your code"
      ]
    },
    {
      "cell_type": "code",
      "execution_count": null,
      "metadata": {
        "id": "sl3tgZi3oIzQ"
      },
      "outputs": [],
      "source": [
        "r1 = Rational(3,4)\n",
        "print(r1)\n",
        "r2 = Rational(5,2)\n",
        "print(r2)"
      ]
    },
    {
      "cell_type": "code",
      "execution_count": null,
      "metadata": {
        "id": "tmP5P-GaoIzQ"
      },
      "outputs": [],
      "source": [
        "r1"
      ]
    },
    {
      "cell_type": "code",
      "execution_count": null,
      "metadata": {
        "id": "mJgZsa9OoIzQ"
      },
      "outputs": [],
      "source": [
        "r1*r2"
      ]
    },
    {
      "cell_type": "code",
      "execution_count": null,
      "metadata": {
        "id": "00olses3oIzQ"
      },
      "outputs": [],
      "source": [
        "r1-r2"
      ]
    },
    {
      "cell_type": "code",
      "execution_count": null,
      "metadata": {
        "id": "JMtRV2FDoIzQ"
      },
      "outputs": [],
      "source": [
        "r1/r2"
      ]
    },
    {
      "cell_type": "code",
      "execution_count": null,
      "metadata": {
        "id": "DFixG1LdoIzR"
      },
      "outputs": [],
      "source": []
    },
    {
      "cell_type": "markdown",
      "metadata": {
        "id": "EauKQ5SIoIzR"
      },
      "source": [
        "# Exercise 3 [Post Lecture]\n",
        "## Square root of rationals using the Babylonian method\n",
        "\n",
        "Implement the [Babylonian Method](https://en.wikipedia.org/wiki/Methods_of_computing_square_roots#Babylonian_method) for computing the square root of a number $S$."
      ]
    },
    {
      "cell_type": "code",
      "execution_count": null,
      "metadata": {
        "id": "VNmCCNFKoIzR"
      },
      "outputs": [],
      "source": [
        "def babylonian(S, num_iters=5):\n",
        "    raise NotImplementedError('Not implemented yet')\n",
        "    # x = S/2\n",
        "    # for i in range(num_iters):\n",
        "    #   x = (x + S/x)/2\n",
        "    # return x"
      ]
    },
    {
      "cell_type": "code",
      "execution_count": null,
      "metadata": {
        "id": "pdcKniV2oIzR"
      },
      "outputs": [],
      "source": [
        "math.sqrt(24)"
      ]
    },
    {
      "cell_type": "code",
      "execution_count": null,
      "metadata": {
        "id": "cMXGkr59oIzR"
      },
      "outputs": [],
      "source": [
        "babylonian(24)"
      ]
    },
    {
      "cell_type": "code",
      "execution_count": null,
      "metadata": {
        "id": "sOuPWeNxoIzS"
      },
      "outputs": [],
      "source": [
        "babylonian(Rational(24))"
      ]
    },
    {
      "cell_type": "markdown",
      "metadata": {
        "id": "bxcIMG9hoIzS"
      },
      "source": [
        "# NumPy\n",
        "This is a good segue into NumPy. Python provides only a handful of numeric types: ints, longs, floats, and complex numbers. We just declared a class that implements rational numbers. NumPy implements one very useful numeric type: multidimensional arrays."
      ]
    },
    {
      "cell_type": "code",
      "execution_count": null,
      "metadata": {
        "id": "yZme3A3aoIzS"
      },
      "outputs": [],
      "source": [
        "# Quick note on importing\n",
        "import math\n",
        "math.sin(5)"
      ]
    },
    {
      "cell_type": "code",
      "execution_count": null,
      "metadata": {
        "id": "K8iR1FkmoIzS"
      },
      "outputs": [],
      "source": [
        "import math as m\n",
        "m.sin(5)"
      ]
    },
    {
      "cell_type": "code",
      "execution_count": null,
      "metadata": {
        "id": "Wpi5DPW_oIzT"
      },
      "outputs": [],
      "source": [
        "import numpy as np"
      ]
    },
    {
      "cell_type": "code",
      "source": [
        "?np.array"
      ],
      "metadata": {
        "id": "zFMYEIMf_AMg"
      },
      "execution_count": null,
      "outputs": []
    },
    {
      "cell_type": "code",
      "source": [
        "print([[0, 2], [1, 5]])"
      ],
      "metadata": {
        "id": "Geo3K3rzl66N"
      },
      "execution_count": null,
      "outputs": []
    },
    {
      "cell_type": "code",
      "execution_count": null,
      "metadata": {
        "id": "qQECr079oIzT"
      },
      "outputs": [],
      "source": [
        "x = np.array([[0, 2], [1, 5]])\n",
        "x"
      ]
    },
    {
      "cell_type": "code",
      "execution_count": null,
      "metadata": {
        "id": "LPuzzACPoIzT"
      },
      "outputs": [],
      "source": [
        "y = np.array([[4, 0], [0, 4]])\n",
        "y"
      ]
    },
    {
      "cell_type": "code",
      "execution_count": null,
      "metadata": {
        "id": "Q6sf-2TBoIzT"
      },
      "outputs": [],
      "source": [
        "x + y"
      ]
    },
    {
      "cell_type": "code",
      "execution_count": null,
      "metadata": {
        "id": "_-OM9_0eoIzT"
      },
      "outputs": [],
      "source": [
        "x ** 2"
      ]
    },
    {
      "cell_type": "code",
      "source": [
        "x * y  # Elementarywise multiplication"
      ],
      "metadata": {
        "id": "v4SZbTYioD_-"
      },
      "execution_count": null,
      "outputs": []
    },
    {
      "cell_type": "code",
      "execution_count": null,
      "metadata": {
        "id": "HFtMSVkAoIzT"
      },
      "outputs": [],
      "source": [
        "x @ y  # Matrix multiplication after Python 3.5, traditional way: np.dot()"
      ]
    },
    {
      "cell_type": "code",
      "source": [
        "np.dot(x,y)"
      ],
      "metadata": {
        "id": "N1W17EBmlUS7"
      },
      "execution_count": null,
      "outputs": []
    },
    {
      "cell_type": "code",
      "execution_count": null,
      "metadata": {
        "id": "Pg5efBf7oIzU"
      },
      "outputs": [],
      "source": [
        "np.sum(x) # More method in the next lecture"
      ]
    },
    {
      "cell_type": "markdown",
      "metadata": {
        "id": "sMl8rBOVoIzU"
      },
      "source": [
        "### Why NumPy?\n",
        "- numpy optimize operation for numeric data\n",
        "- processes the tasks parallelly.\n",
        "- The NumPy package integrates C, C++, and Fortran codes in Python. These programming languages have very little execution time compared to Python."
      ]
    },
    {
      "cell_type": "code",
      "execution_count": null,
      "metadata": {
        "id": "MovmAf18oIzU"
      },
      "outputs": [],
      "source": [
        "%%timeit\n",
        "x = list(np.random.rand(10000))\n",
        "y = list(np.random.rand(10000))\n",
        "z=0\n",
        "for i in range(10000):\n",
        "    z += x[i]*y[i]"
      ]
    },
    {
      "cell_type": "code",
      "execution_count": null,
      "metadata": {
        "id": "MvXL-0rVoIzU"
      },
      "outputs": [],
      "source": [
        "%%timeit\n",
        "x = np.random.rand(10000)\n",
        "y = np.random.rand(10000)\n",
        "z = np.dot(x,y)"
      ]
    },
    {
      "cell_type": "markdown",
      "metadata": {
        "id": "tFi2SP9JoIzU"
      },
      "source": [
        "## NumPy functions for creating arrays"
      ]
    },
    {
      "cell_type": "code",
      "source": [
        "?np.zeros"
      ],
      "metadata": {
        "id": "OF7xPQGrCdf9"
      },
      "execution_count": null,
      "outputs": []
    },
    {
      "cell_type": "code",
      "execution_count": null,
      "metadata": {
        "id": "vydvkk7-oIzV"
      },
      "outputs": [],
      "source": [
        "X=np.zeros(shape = (5,10))\n",
        "X"
      ]
    },
    {
      "cell_type": "code",
      "source": [
        "X[1,2] = 1\n",
        "X"
      ],
      "metadata": {
        "id": "wxx5ddBuskaF"
      },
      "execution_count": null,
      "outputs": []
    },
    {
      "cell_type": "code",
      "execution_count": null,
      "metadata": {
        "id": "FAovduiMoIzV"
      },
      "outputs": [],
      "source": [
        "X.shape"
      ]
    },
    {
      "cell_type": "code",
      "execution_count": null,
      "metadata": {
        "id": "ewjWiPMkoIzV"
      },
      "outputs": [],
      "source": [
        "Y=np.ones(shape = (5,10))\n",
        "Y"
      ]
    },
    {
      "cell_type": "code",
      "source": [
        "?np.twos"
      ],
      "metadata": {
        "id": "V7--025BSRkx"
      },
      "execution_count": null,
      "outputs": []
    },
    {
      "cell_type": "code",
      "execution_count": null,
      "metadata": {
        "id": "EyI32oYUoIzV"
      },
      "outputs": [],
      "source": [
        "2*Y + 3"
      ]
    },
    {
      "cell_type": "code",
      "source": [
        "?np.random.rand"
      ],
      "metadata": {
        "id": "kZ1uuQysC_os"
      },
      "execution_count": null,
      "outputs": []
    },
    {
      "cell_type": "code",
      "execution_count": null,
      "metadata": {
        "id": "qjWfrOscoIzW"
      },
      "outputs": [],
      "source": [
        "R=np.random.rand(5,5)\n",
        "R"
      ]
    },
    {
      "cell_type": "code",
      "execution_count": null,
      "metadata": {
        "id": "ZFu-aoqDoIzW"
      },
      "outputs": [],
      "source": [
        "Rn = np.random.randn(5,5) #each number is a standard random normal variable (“standard normal” distribution) \n",
        "Rn"
      ]
    },
    {
      "cell_type": "code",
      "execution_count": null,
      "metadata": {
        "id": "EmnCYJE_oIzW"
      },
      "outputs": [],
      "source": [
        "np.arange(1,100,2)"
      ]
    },
    {
      "cell_type": "code",
      "source": [
        "x = []\n",
        "for i in range(1,100,2):\n",
        "  x.append(i)\n",
        "print(x)"
      ],
      "metadata": {
        "id": "oV175xjSSsL6"
      },
      "execution_count": null,
      "outputs": []
    },
    {
      "cell_type": "code",
      "source": [
        "np.linspace(1,99,50) #end value is inclusive! "
      ],
      "metadata": {
        "id": "7s7bU-O_D37G"
      },
      "execution_count": null,
      "outputs": []
    },
    {
      "cell_type": "code",
      "execution_count": null,
      "metadata": {
        "id": "E3ExUy8ToIzW"
      },
      "outputs": [],
      "source": [
        "np.linspace(0,5,11)"
      ]
    },
    {
      "cell_type": "code",
      "execution_count": null,
      "metadata": {
        "id": "vO_GyWY_oIzW"
      },
      "outputs": [],
      "source": [
        "X = np.arange(0,100)\n",
        "X"
      ]
    },
    {
      "cell_type": "code",
      "execution_count": null,
      "metadata": {
        "id": "BaAgFRkioIzX"
      },
      "outputs": [],
      "source": [
        "X.reshape((10,-1))"
      ]
    },
    {
      "cell_type": "markdown",
      "metadata": {
        "id": "rgKBI5ZGoIzX"
      },
      "source": [
        "# Exercise 4\n",
        "\n",
        "## Numpy Array construction\n",
        "\n",
        "1. 5 by 10 array with all elements random between 50 and 100.\n",
        "2. All numbers between 50 and 51, separated by 0.01"
      ]
    },
    {
      "cell_type": "code",
      "source": [
        "x = np.arange(50, 51, 0.01)"
      ],
      "metadata": {
        "id": "hiVFFux2on6-"
      },
      "execution_count": null,
      "outputs": []
    },
    {
      "cell_type": "code",
      "source": [
        "x.reshape(10, -1)"
      ],
      "metadata": {
        "id": "00YfVxSKpEhU"
      },
      "execution_count": null,
      "outputs": []
    },
    {
      "cell_type": "code",
      "source": [
        "np.linspace(0, 10, 11)"
      ],
      "metadata": {
        "id": "3j0a0Vgto28u"
      },
      "execution_count": null,
      "outputs": []
    },
    {
      "cell_type": "code",
      "execution_count": null,
      "metadata": {
        "id": "0cssBxLtoIzX"
      },
      "outputs": [],
      "source": [
        "np.linspace(50, 51, 101)"
      ]
    },
    {
      "cell_type": "markdown",
      "metadata": {
        "id": "TZ0xnn_JoIzX"
      },
      "source": [
        "# Plotting (Optional)\n",
        "\n",
        "We will see some functions to do some quick plotting, we will come back to this library later."
      ]
    },
    {
      "cell_type": "code",
      "execution_count": null,
      "metadata": {
        "id": "GVuaVcrAoIzX"
      },
      "outputs": [],
      "source": [
        "import numpy as np\n",
        "import matplotlib.pyplot as plt"
      ]
    },
    {
      "cell_type": "code",
      "execution_count": null,
      "metadata": {
        "id": "hm54jh_soIzX",
        "colab": {
          "base_uri": "https://localhost:8080/"
        },
        "outputId": "36cf8582-f4ee-4ece-80d2-933fb1529c2f"
      },
      "outputs": [
        {
          "output_type": "execute_result",
          "data": {
            "text/plain": [
              "array([-5.        , -4.8989899 , -4.7979798 , -4.6969697 , -4.5959596 ,\n",
              "       -4.49494949, -4.39393939, -4.29292929, -4.19191919, -4.09090909,\n",
              "       -3.98989899, -3.88888889, -3.78787879, -3.68686869, -3.58585859,\n",
              "       -3.48484848, -3.38383838, -3.28282828, -3.18181818, -3.08080808,\n",
              "       -2.97979798, -2.87878788, -2.77777778, -2.67676768, -2.57575758,\n",
              "       -2.47474747, -2.37373737, -2.27272727, -2.17171717, -2.07070707,\n",
              "       -1.96969697, -1.86868687, -1.76767677, -1.66666667, -1.56565657,\n",
              "       -1.46464646, -1.36363636, -1.26262626, -1.16161616, -1.06060606,\n",
              "       -0.95959596, -0.85858586, -0.75757576, -0.65656566, -0.55555556,\n",
              "       -0.45454545, -0.35353535, -0.25252525, -0.15151515, -0.05050505,\n",
              "        0.05050505,  0.15151515,  0.25252525,  0.35353535,  0.45454545,\n",
              "        0.55555556,  0.65656566,  0.75757576,  0.85858586,  0.95959596,\n",
              "        1.06060606,  1.16161616,  1.26262626,  1.36363636,  1.46464646,\n",
              "        1.56565657,  1.66666667,  1.76767677,  1.86868687,  1.96969697,\n",
              "        2.07070707,  2.17171717,  2.27272727,  2.37373737,  2.47474747,\n",
              "        2.57575758,  2.67676768,  2.77777778,  2.87878788,  2.97979798,\n",
              "        3.08080808,  3.18181818,  3.28282828,  3.38383838,  3.48484848,\n",
              "        3.58585859,  3.68686869,  3.78787879,  3.88888889,  3.98989899,\n",
              "        4.09090909,  4.19191919,  4.29292929,  4.39393939,  4.49494949,\n",
              "        4.5959596 ,  4.6969697 ,  4.7979798 ,  4.8989899 ,  5.        ])"
            ]
          },
          "metadata": {},
          "execution_count": 2
        }
      ],
      "source": [
        "x = np.linspace(-5,5,100)\n",
        "x"
      ]
    },
    {
      "cell_type": "code",
      "execution_count": null,
      "metadata": {
        "id": "zcHTc4vkoIzY",
        "colab": {
          "base_uri": "https://localhost:8080/"
        },
        "outputId": "1cc0ad2d-a878-4e3f-bbe1-8351789982a6"
      },
      "outputs": [
        {
          "output_type": "execute_result",
          "data": {
            "text/plain": [
              "array([2.50000000e+01, 2.40001020e+01, 2.30206101e+01, 2.20615243e+01,\n",
              "       2.11228446e+01, 2.02045710e+01, 1.93067034e+01, 1.84292419e+01,\n",
              "       1.75721865e+01, 1.67355372e+01, 1.59192939e+01, 1.51234568e+01,\n",
              "       1.43480257e+01, 1.35930007e+01, 1.28583818e+01, 1.21441690e+01,\n",
              "       1.14503622e+01, 1.07769615e+01, 1.01239669e+01, 9.49137843e+00,\n",
              "       8.87919600e+00, 8.28741965e+00, 7.71604938e+00, 7.16508520e+00,\n",
              "       6.63452709e+00, 6.12437506e+00, 5.63462912e+00, 5.16528926e+00,\n",
              "       4.71635547e+00, 4.28782777e+00, 3.87970615e+00, 3.49199061e+00,\n",
              "       3.12468115e+00, 2.77777778e+00, 2.45128048e+00, 2.14518927e+00,\n",
              "       1.85950413e+00, 1.59422508e+00, 1.34935211e+00, 1.12488522e+00,\n",
              "       9.20824406e-01, 7.37169677e-01, 5.73921028e-01, 4.31078461e-01,\n",
              "       3.08641975e-01, 2.06611570e-01, 1.24987246e-01, 6.37690032e-02,\n",
              "       2.29568411e-02, 2.55076013e-03, 2.55076013e-03, 2.29568411e-02,\n",
              "       6.37690032e-02, 1.24987246e-01, 2.06611570e-01, 3.08641975e-01,\n",
              "       4.31078461e-01, 5.73921028e-01, 7.37169677e-01, 9.20824406e-01,\n",
              "       1.12488522e+00, 1.34935211e+00, 1.59422508e+00, 1.85950413e+00,\n",
              "       2.14518927e+00, 2.45128048e+00, 2.77777778e+00, 3.12468115e+00,\n",
              "       3.49199061e+00, 3.87970615e+00, 4.28782777e+00, 4.71635547e+00,\n",
              "       5.16528926e+00, 5.63462912e+00, 6.12437506e+00, 6.63452709e+00,\n",
              "       7.16508520e+00, 7.71604938e+00, 8.28741965e+00, 8.87919600e+00,\n",
              "       9.49137843e+00, 1.01239669e+01, 1.07769615e+01, 1.14503622e+01,\n",
              "       1.21441690e+01, 1.28583818e+01, 1.35930007e+01, 1.43480257e+01,\n",
              "       1.51234568e+01, 1.59192939e+01, 1.67355372e+01, 1.75721865e+01,\n",
              "       1.84292419e+01, 1.93067034e+01, 2.02045710e+01, 2.11228446e+01,\n",
              "       2.20615243e+01, 2.30206101e+01, 2.40001020e+01, 2.50000000e+01])"
            ]
          },
          "metadata": {},
          "execution_count": 3
        }
      ],
      "source": [
        "y = x*x\n",
        "y"
      ]
    },
    {
      "cell_type": "code",
      "execution_count": null,
      "metadata": {
        "id": "JJ6cqscaoIzY",
        "colab": {
          "base_uri": "https://localhost:8080/",
          "height": 283
        },
        "outputId": "992aefa3-7493-4ff2-9ffd-1075aae11f45"
      },
      "outputs": [
        {
          "output_type": "execute_result",
          "data": {
            "text/plain": [
              "[<matplotlib.lines.Line2D at 0x7fd1d5d4ce50>]"
            ]
          },
          "metadata": {},
          "execution_count": 4
        },
        {
          "output_type": "display_data",
          "data": {
            "text/plain": [
              "<Figure size 432x288 with 1 Axes>"
            ],
            "image/png": "[encoded data removed]"
          },
          "metadata": {
            "needs_background": "light"
          }
        }
      ],
      "source": [
        "plt.plot(x,y)"
      ]
    },
    {
      "cell_type": "code",
      "execution_count": null,
      "metadata": {
        "id": "qn7peqrOoIzY",
        "colab": {
          "base_uri": "https://localhost:8080/",
          "height": 283
        },
        "outputId": "c65a0515-79d2-4d32-a606-67312c514f67"
      },
      "outputs": [
        {
          "output_type": "execute_result",
          "data": {
            "text/plain": [
              "[<matplotlib.lines.Line2D at 0x7fd1d5829d10>]"
            ]
          },
          "metadata": {},
          "execution_count": 5
        },
        {
          "output_type": "display_data",
          "data": {
            "text/plain": [
              "<Figure size 432x288 with 1 Axes>"
            ],
            "image/png": "[encoded data removed]"
          },
          "metadata": {
            "needs_background": "light"
          }
        }
      ],
      "source": [
        "plt.plot(y)"
      ]
    },
    {
      "cell_type": "code",
      "execution_count": null,
      "metadata": {
        "id": "vRInLhHhoIzZ",
        "colab": {
          "base_uri": "https://localhost:8080/",
          "height": 283
        },
        "outputId": "63c75b37-1436-48b5-cb4b-78788d275c73"
      },
      "outputs": [
        {
          "output_type": "execute_result",
          "data": {
            "text/plain": [
              "[<matplotlib.lines.Line2D at 0x7fd1d576c790>]"
            ]
          },
          "metadata": {},
          "execution_count": 6
        },
        {
          "output_type": "display_data",
          "data": {
            "text/plain": [
              "<Figure size 432x288 with 1 Axes>"
            ],
            "image/png": "[encoded data removed]"
          },
          "metadata": {
            "needs_background": "light"
          }
        }
      ],
      "source": [
        "plt.plot(np.random.rand(10))\n",
        "plt.plot(np.random.rand(10))"
      ]
    },
    {
      "cell_type": "code",
      "execution_count": null,
      "metadata": {
        "id": "zXDyJjumoIzZ",
        "colab": {
          "base_uri": "https://localhost:8080/",
          "height": 313
        },
        "outputId": "d615265e-4600-4fb1-c261-3284c3021bd9"
      },
      "outputs": [
        {
          "output_type": "execute_result",
          "data": {
            "text/plain": [
              "Text(0.5, 1.0, 'Title')"
            ]
          },
          "metadata": {},
          "execution_count": 7
        },
        {
          "output_type": "display_data",
          "data": {
            "text/plain": [
              "<Figure size 432x288 with 1 Axes>"
            ],
            "image/png": "[encoded data removed]"
          },
          "metadata": {
            "needs_background": "light"
          }
        }
      ],
      "source": [
        "plt.plot(np.random.rand(10))\n",
        "plt.plot(np.random.rand(10))\n",
        "plt.legend([\"curve1\",\"curve2\"])\n",
        "plt.xlabel(\"X label\")\n",
        "plt.ylabel(\"Y label\")\n",
        "plt.title(\"Title\")"
      ]
    },
    {
      "cell_type": "markdown",
      "source": [
        "Matplotlib Gallery: https://matplotlib.org/stable/plot_types/index"
      ],
      "metadata": {
        "id": "quzW0I0mIPaz"
      }
    },
    {
      "cell_type": "code",
      "execution_count": null,
      "metadata": {
        "id": "uHEruRPgoIzZ",
        "colab": {
          "base_uri": "https://localhost:8080/",
          "height": 287
        },
        "outputId": "399223a4-ae19-4d8d-8eed-19b0ddf341bf"
      },
      "outputs": [
        {
          "output_type": "execute_result",
          "data": {
            "text/plain": [
              "[<matplotlib.lines.Line2D at 0x7fd1d5579910>]"
            ]
          },
          "metadata": {},
          "execution_count": 8
        },
        {
          "output_type": "display_data",
          "data": {
            "text/plain": [
              "<Figure size 432x288 with 6 Axes>"
            ],
            "image/png": "[encoded data removed]"
          },
          "metadata": {
            "needs_background": "light"
          }
        }
      ],
      "source": [
        "# Multiple Subplots (Optional)\n",
        "fig, ax = plt.subplots(nrows=2, ncols=3)\n",
        "ax[0,0].plot(x,y)\n",
        "ax[1,2].plot(x,y)"
      ]
    },
    {
      "cell_type": "code",
      "source": [],
      "metadata": {
        "id": "2q5Qh2pXHvIM"
      },
      "execution_count": null,
      "outputs": []
    }
  ],
  "metadata": {
    "colab": {
      "provenance": [],
      "collapsed_sections": [
        "433NNh_loIzO",
        "EauKQ5SIoIzR",
        "bxcIMG9hoIzS",
        "sMl8rBOVoIzU",
        "tFi2SP9JoIzU",
        "rgKBI5ZGoIzX",
        "TZ0xnn_JoIzX"
      ],
      "include_colab_link": true
    },
    "kernelspec": {
      "display_name": "Python 3 (ipykernel)",
      "language": "python",
      "name": "python3"
    },
    "language_info": {
      "codemirror_mode": {
        "name": "ipython",
        "version": 3
      },
      "file_extension": ".py",
      "mimetype": "text/x-python",
      "name": "python",
      "nbconvert_exporter": "python",
      "pygments_lexer": "ipython3",
      "version": "3.9.7"
    }
  },
  "nbformat": 4,
  "nbformat_minor": 0
}